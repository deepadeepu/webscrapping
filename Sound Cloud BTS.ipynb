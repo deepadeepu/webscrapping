{
 "cells": [
  {
   "cell_type": "markdown",
   "metadata": {},
   "source": [
    "### Import selenium webdriver from selenium"
   ]
  },
  {
   "cell_type": "code",
   "execution_count": 96,
   "metadata": {},
   "outputs": [],
   "source": [
    "from selenium import webdriver"
   ]
  },
  {
   "cell_type": "markdown",
   "metadata": {},
   "source": [
    "### locating the path for chrome driver"
   ]
  },
  {
   "cell_type": "code",
   "execution_count": 97,
   "metadata": {},
   "outputs": [],
   "source": [
    "chrome_path=r\"C:\\Users\\DEEPA\\Desktop\\event brite\\chromedriver.exe\""
   ]
  },
  {
   "cell_type": "markdown",
   "metadata": {},
   "source": [
    "### loading the chrome driver into webdriver for automation"
   ]
  },
  {
   "cell_type": "code",
   "execution_count": 98,
   "metadata": {},
   "outputs": [],
   "source": [
    "driver=webdriver.Chrome(chrome_path)"
   ]
  },
  {
   "cell_type": "markdown",
   "metadata": {},
   "source": [
    "### open the url "
   ]
  },
  {
   "cell_type": "code",
   "execution_count": 99,
   "metadata": {},
   "outputs": [],
   "source": [
    "driver.get(\"https://soundcloud.com/\")"
   ]
  },
  {
   "cell_type": "markdown",
   "metadata": {},
   "source": [
    "### sendkeys is the command we will use to send or give input to the  textboxes in the browser"
   ]
  },
  {
   "cell_type": "code",
   "execution_count": 100,
   "metadata": {},
   "outputs": [],
   "source": [
    "driver.find_element_by_xpath(\"\"\"//*[@id=\"content\"]/div/div/div[2]/div/div[1]/span/form/input\"\"\").send_keys( \"BTS\" )"
   ]
  },
  {
   "cell_type": "markdown",
   "metadata": {},
   "source": [
    "### click is the command for clicking here we are clicking the search button"
   ]
  },
  {
   "cell_type": "code",
   "execution_count": 101,
   "metadata": {},
   "outputs": [],
   "source": [
    "driver.find_element_by_xpath(\"\"\"//*[@id=\"content\"]/div/div/div[2]/div/div[1]/span/form/button\"\"\").click()"
   ]
  },
  {
   "cell_type": "markdown",
   "metadata": {},
   "source": [
    "### to select all the music belongs to same class"
   ]
  },
  {
   "cell_type": "code",
   "execution_count": 102,
   "metadata": {},
   "outputs": [],
   "source": [
    "music=driver.find_elements_by_class_name(\"streamContext\")"
   ]
  },
  {
   "cell_type": "code",
   "execution_count": 103,
   "metadata": {},
   "outputs": [],
   "source": [
    "####music=WebDriverWait(driver, 30).until(EC.visibility_of_all_elements_located(driver.find_elements_by_class_name(\"sc-artwork\")))"
   ]
  },
  {
   "cell_type": "markdown",
   "metadata": {},
   "source": [
    "#### here we are appending all the data we scrapped into a list"
   ]
  },
  {
   "cell_type": "code",
   "execution_count": 109,
   "metadata": {},
   "outputs": [
    {
     "name": "stdout",
     "output_type": "stream",
     "text": [
      "Play\n",
      "BTS\n",
      "약속 By JIMIN Of BTS\n",
      "Posted 5 months ago\n",
      "5 months ago\n",
      "776K\n",
      "89.1K\n",
      "Share\n",
      "More\n",
      "148,974,883 plays\n",
      "148M\n",
      "View all comments\n",
      "95.3K\n",
      "Play\n",
      "BTS\n",
      "약속 By JIMIN Of BTS\n",
      "Posted 5 months ago\n",
      "5 months ago\n",
      "Play\n",
      "BTS\n",
      "PAPER HEARTS(cover) by JK Of BTS\n",
      "Posted 3 years ago\n",
      "3 years ago\n",
      "366K\n",
      "30.4K\n",
      "Share\n",
      "More\n",
      "14,856,273 plays\n",
      "14.8M\n",
      "View all comments\n",
      "6,968\n",
      "Play\n",
      "BTS\n",
      "PAPER HEARTS(cover) by JK Of BTS\n",
      "Posted 3 years ago\n",
      "3 years ago\n",
      "Play\n",
      "BTS\n",
      "네시 (4 O'CLOCK) - R&V\n",
      "Posted 2 years ago\n",
      "2 years ago\n",
      "560K\n",
      "59.1K\n",
      "Share\n",
      "More\n",
      "27,155,090 plays\n",
      "27.1M\n",
      "View all comments\n",
      "17.3K\n",
      "Play\n",
      "BTS\n",
      "네시 (4 O'CLOCK) - R&V\n",
      "Posted 2 years ago\n",
      "2 years ago\n",
      "Play\n",
      "BTS\n",
      "Fools (COVER) By 랩몬스터 & 정국 of BTS\n",
      "Posted 3 years ago\n",
      "3 years ago\n",
      "313K\n",
      "28.2K\n",
      "Share\n",
      "More\n",
      "11,880,237 plays\n",
      "11.8M\n",
      "View all comments\n",
      "7,437\n",
      "Play\n",
      "BTS\n",
      "Fools (COVER) By 랩몬스터 & 정국 of BTS\n",
      "Posted 3 years ago\n",
      "3 years ago\n",
      "Play\n",
      "BTS\n",
      "SOMEONE LIKE YOU (COVER) By V Of BTS\n",
      "Posted 4 years ago\n",
      "4 years ago\n",
      "231K\n",
      "15.1K\n",
      "Share\n",
      "More\n",
      "7,552,279 plays\n",
      "7.55M\n",
      "View all comments\n",
      "4,717\n",
      "Play\n",
      "BTS\n",
      "SOMEONE LIKE YOU (COVER) By V Of BTS\n",
      "Posted 4 years ago\n",
      "4 years ago\n",
      "Play\n",
      "BTS\n",
      "02. Agust D\n",
      "Posted 2 years ago\n",
      "2 years ago\n",
      "341K\n",
      "14.6K\n",
      "Share\n",
      "More\n",
      "13,899,294 plays\n",
      "13.8M\n",
      "View all comments\n",
      "5,924\n",
      "Play\n",
      "BTS\n",
      "02. Agust D\n",
      "Posted 2 years ago\n",
      "2 years ago\n",
      "Play\n",
      "BTS\n",
      "Purpose (cover) by JK of BTS\n",
      "Posted 2 years ago\n",
      "2 years ago\n",
      "264K\n",
      "27.4K\n",
      "Share\n",
      "More\n",
      "8,111,959 plays\n",
      "8.11M\n",
      "View all comments\n",
      "5,950\n",
      "Play\n",
      "BTS\n",
      "Purpose (cover) by JK of BTS\n",
      "Posted 2 years ago\n",
      "2 years ago\n",
      "Play\n",
      "BTS\n",
      "3. Daydream (백일몽)\n",
      "Posted 1 year ago\n",
      "1 year ago\n",
      "274K\n",
      "17.3K\n",
      "Share\n",
      "More\n",
      "9,682,573 plays\n",
      "9.68M\n",
      "View all comments\n",
      "2,907\n",
      "Play\n",
      "BTS\n",
      "3. Daydream (백일몽)\n",
      "Posted 1 year ago\n",
      "1 year ago\n",
      "Play\n",
      "BTS\n",
      "2U (cover) By JK Of BTS\n",
      "Posted 1 year ago\n",
      "1 year ago\n",
      "409K\n",
      "41.3K\n",
      "Share\n",
      "More\n",
      "14,088,668 plays\n",
      "14M\n",
      "View all comments\n",
      "11.8K\n",
      "Play\n",
      "BTS\n",
      "2U (cover) By JK Of BTS\n",
      "Posted 1 year ago\n",
      "1 year ago\n"
     ]
    }
   ],
   "source": [
    "btsmusic=[]\n",
    "for bts_music in music:\n",
    "    sa=bts_music.text.split('\\n')\n",
    "    print(bts_music.text)\n",
    "    btsmusic.append(sa)"
   ]
  },
  {
   "cell_type": "code",
   "execution_count": 110,
   "metadata": {},
   "outputs": [
    {
     "data": {
      "text/plain": [
       "[['Play',\n",
       "  'BTS',\n",
       "  '약속 By JIMIN Of BTS',\n",
       "  'Posted 5 months ago',\n",
       "  '5 months ago',\n",
       "  '776K',\n",
       "  '89.1K',\n",
       "  'Share',\n",
       "  'More',\n",
       "  '148,974,883 plays',\n",
       "  '148M',\n",
       "  'View all comments',\n",
       "  '95.3K'],\n",
       " ['Play', 'BTS', '약속 By JIMIN Of BTS', 'Posted 5 months ago', '5 months ago'],\n",
       " ['Play',\n",
       "  'BTS',\n",
       "  'PAPER HEARTS(cover) by JK Of BTS',\n",
       "  'Posted 3 years ago',\n",
       "  '3 years ago',\n",
       "  '366K',\n",
       "  '30.4K',\n",
       "  'Share',\n",
       "  'More',\n",
       "  '14,856,273 plays',\n",
       "  '14.8M',\n",
       "  'View all comments',\n",
       "  '6,968'],\n",
       " ['Play',\n",
       "  'BTS',\n",
       "  'PAPER HEARTS(cover) by JK Of BTS',\n",
       "  'Posted 3 years ago',\n",
       "  '3 years ago'],\n",
       " ['Play',\n",
       "  'BTS',\n",
       "  \"네시 (4 O'CLOCK) - R&V\",\n",
       "  'Posted 2 years ago',\n",
       "  '2 years ago',\n",
       "  '560K',\n",
       "  '59.1K',\n",
       "  'Share',\n",
       "  'More',\n",
       "  '27,155,090 plays',\n",
       "  '27.1M',\n",
       "  'View all comments',\n",
       "  '17.3K'],\n",
       " ['Play', 'BTS', \"네시 (4 O'CLOCK) - R&V\", 'Posted 2 years ago', '2 years ago'],\n",
       " ['Play',\n",
       "  'BTS',\n",
       "  'Fools (COVER) By 랩몬스터 & 정국 of BTS',\n",
       "  'Posted 3 years ago',\n",
       "  '3 years ago',\n",
       "  '313K',\n",
       "  '28.2K',\n",
       "  'Share',\n",
       "  'More',\n",
       "  '11,880,237 plays',\n",
       "  '11.8M',\n",
       "  'View all comments',\n",
       "  '7,437'],\n",
       " ['Play',\n",
       "  'BTS',\n",
       "  'Fools (COVER) By 랩몬스터 & 정국 of BTS',\n",
       "  'Posted 3 years ago',\n",
       "  '3 years ago'],\n",
       " ['Play',\n",
       "  'BTS',\n",
       "  'SOMEONE LIKE YOU (COVER) By V Of BTS',\n",
       "  'Posted 4 years ago',\n",
       "  '4 years ago',\n",
       "  '231K',\n",
       "  '15.1K',\n",
       "  'Share',\n",
       "  'More',\n",
       "  '7,552,279 plays',\n",
       "  '7.55M',\n",
       "  'View all comments',\n",
       "  '4,717'],\n",
       " ['Play',\n",
       "  'BTS',\n",
       "  'SOMEONE LIKE YOU (COVER) By V Of BTS',\n",
       "  'Posted 4 years ago',\n",
       "  '4 years ago'],\n",
       " ['Play',\n",
       "  'BTS',\n",
       "  '02. Agust D',\n",
       "  'Posted 2 years ago',\n",
       "  '2 years ago',\n",
       "  '341K',\n",
       "  '14.6K',\n",
       "  'Share',\n",
       "  'More',\n",
       "  '13,899,294 plays',\n",
       "  '13.8M',\n",
       "  'View all comments',\n",
       "  '5,924'],\n",
       " ['Play', 'BTS', '02. Agust D', 'Posted 2 years ago', '2 years ago'],\n",
       " ['Play',\n",
       "  'BTS',\n",
       "  'Purpose (cover) by JK of BTS',\n",
       "  'Posted 2 years ago',\n",
       "  '2 years ago',\n",
       "  '264K',\n",
       "  '27.4K',\n",
       "  'Share',\n",
       "  'More',\n",
       "  '8,111,959 plays',\n",
       "  '8.11M',\n",
       "  'View all comments',\n",
       "  '5,950'],\n",
       " ['Play',\n",
       "  'BTS',\n",
       "  'Purpose (cover) by JK of BTS',\n",
       "  'Posted 2 years ago',\n",
       "  '2 years ago'],\n",
       " ['Play',\n",
       "  'BTS',\n",
       "  '3. Daydream (백일몽)',\n",
       "  'Posted 1 year ago',\n",
       "  '1 year ago',\n",
       "  '274K',\n",
       "  '17.3K',\n",
       "  'Share',\n",
       "  'More',\n",
       "  '9,682,573 plays',\n",
       "  '9.68M',\n",
       "  'View all comments',\n",
       "  '2,907'],\n",
       " ['Play', 'BTS', '3. Daydream (백일몽)', 'Posted 1 year ago', '1 year ago'],\n",
       " ['Play',\n",
       "  'BTS',\n",
       "  '2U (cover) By JK Of BTS',\n",
       "  'Posted 1 year ago',\n",
       "  '1 year ago',\n",
       "  '409K',\n",
       "  '41.3K',\n",
       "  'Share',\n",
       "  'More',\n",
       "  '14,088,668 plays',\n",
       "  '14M',\n",
       "  'View all comments',\n",
       "  '11.8K'],\n",
       " ['Play', 'BTS', '2U (cover) By JK Of BTS', 'Posted 1 year ago', '1 year ago']]"
      ]
     },
     "execution_count": 110,
     "metadata": {},
     "output_type": "execute_result"
    }
   ],
   "source": [
    "btsmusic"
   ]
  },
  {
   "cell_type": "markdown",
   "metadata": {},
   "source": [
    "## Exploartory Data Analysis"
   ]
  },
  {
   "cell_type": "code",
   "execution_count": 168,
   "metadata": {},
   "outputs": [],
   "source": [
    "import pandas as pd\n",
    "import numpy as np"
   ]
  },
  {
   "cell_type": "markdown",
   "metadata": {},
   "source": [
    "#### converting list to a dataframe"
   ]
  },
  {
   "cell_type": "code",
   "execution_count": 169,
   "metadata": {},
   "outputs": [],
   "source": [
    "btsmusicdf=pd.DataFrame(btsmusic)"
   ]
  },
  {
   "cell_type": "code",
   "execution_count": 170,
   "metadata": {
    "scrolled": true
   },
   "outputs": [
    {
     "data": {
      "text/html": [
       "<div>\n",
       "<style scoped>\n",
       "    .dataframe tbody tr th:only-of-type {\n",
       "        vertical-align: middle;\n",
       "    }\n",
       "\n",
       "    .dataframe tbody tr th {\n",
       "        vertical-align: top;\n",
       "    }\n",
       "\n",
       "    .dataframe thead th {\n",
       "        text-align: right;\n",
       "    }\n",
       "</style>\n",
       "<table border=\"1\" class=\"dataframe\">\n",
       "  <thead>\n",
       "    <tr style=\"text-align: right;\">\n",
       "      <th></th>\n",
       "      <th>0</th>\n",
       "      <th>1</th>\n",
       "      <th>2</th>\n",
       "      <th>3</th>\n",
       "      <th>4</th>\n",
       "      <th>5</th>\n",
       "      <th>6</th>\n",
       "      <th>7</th>\n",
       "      <th>8</th>\n",
       "      <th>9</th>\n",
       "      <th>10</th>\n",
       "      <th>11</th>\n",
       "      <th>12</th>\n",
       "    </tr>\n",
       "  </thead>\n",
       "  <tbody>\n",
       "    <tr>\n",
       "      <th>0</th>\n",
       "      <td>Play</td>\n",
       "      <td>BTS</td>\n",
       "      <td>약속 By JIMIN Of BTS</td>\n",
       "      <td>Posted 5 months ago</td>\n",
       "      <td>5 months ago</td>\n",
       "      <td>776K</td>\n",
       "      <td>89.1K</td>\n",
       "      <td>Share</td>\n",
       "      <td>More</td>\n",
       "      <td>148,974,883 plays</td>\n",
       "      <td>148M</td>\n",
       "      <td>View all comments</td>\n",
       "      <td>95.3K</td>\n",
       "    </tr>\n",
       "    <tr>\n",
       "      <th>1</th>\n",
       "      <td>Play</td>\n",
       "      <td>BTS</td>\n",
       "      <td>약속 By JIMIN Of BTS</td>\n",
       "      <td>Posted 5 months ago</td>\n",
       "      <td>5 months ago</td>\n",
       "      <td>None</td>\n",
       "      <td>None</td>\n",
       "      <td>None</td>\n",
       "      <td>None</td>\n",
       "      <td>None</td>\n",
       "      <td>None</td>\n",
       "      <td>None</td>\n",
       "      <td>None</td>\n",
       "    </tr>\n",
       "    <tr>\n",
       "      <th>2</th>\n",
       "      <td>Play</td>\n",
       "      <td>BTS</td>\n",
       "      <td>PAPER HEARTS(cover) by JK Of BTS</td>\n",
       "      <td>Posted 3 years ago</td>\n",
       "      <td>3 years ago</td>\n",
       "      <td>366K</td>\n",
       "      <td>30.4K</td>\n",
       "      <td>Share</td>\n",
       "      <td>More</td>\n",
       "      <td>14,856,273 plays</td>\n",
       "      <td>14.8M</td>\n",
       "      <td>View all comments</td>\n",
       "      <td>6,968</td>\n",
       "    </tr>\n",
       "    <tr>\n",
       "      <th>3</th>\n",
       "      <td>Play</td>\n",
       "      <td>BTS</td>\n",
       "      <td>PAPER HEARTS(cover) by JK Of BTS</td>\n",
       "      <td>Posted 3 years ago</td>\n",
       "      <td>3 years ago</td>\n",
       "      <td>None</td>\n",
       "      <td>None</td>\n",
       "      <td>None</td>\n",
       "      <td>None</td>\n",
       "      <td>None</td>\n",
       "      <td>None</td>\n",
       "      <td>None</td>\n",
       "      <td>None</td>\n",
       "    </tr>\n",
       "    <tr>\n",
       "      <th>4</th>\n",
       "      <td>Play</td>\n",
       "      <td>BTS</td>\n",
       "      <td>네시 (4 O'CLOCK) - R&amp;V</td>\n",
       "      <td>Posted 2 years ago</td>\n",
       "      <td>2 years ago</td>\n",
       "      <td>560K</td>\n",
       "      <td>59.1K</td>\n",
       "      <td>Share</td>\n",
       "      <td>More</td>\n",
       "      <td>27,155,090 plays</td>\n",
       "      <td>27.1M</td>\n",
       "      <td>View all comments</td>\n",
       "      <td>17.3K</td>\n",
       "    </tr>\n",
       "  </tbody>\n",
       "</table>\n",
       "</div>"
      ],
      "text/plain": [
       "     0    1                                 2                    3   \\\n",
       "0  Play  BTS                약속 By JIMIN Of BTS  Posted 5 months ago   \n",
       "1  Play  BTS                약속 By JIMIN Of BTS  Posted 5 months ago   \n",
       "2  Play  BTS  PAPER HEARTS(cover) by JK Of BTS   Posted 3 years ago   \n",
       "3  Play  BTS  PAPER HEARTS(cover) by JK Of BTS   Posted 3 years ago   \n",
       "4  Play  BTS              네시 (4 O'CLOCK) - R&V   Posted 2 years ago   \n",
       "\n",
       "             4     5      6      7     8                  9      10  \\\n",
       "0  5 months ago  776K  89.1K  Share  More  148,974,883 plays   148M   \n",
       "1  5 months ago  None   None   None  None               None   None   \n",
       "2   3 years ago  366K  30.4K  Share  More   14,856,273 plays  14.8M   \n",
       "3   3 years ago  None   None   None  None               None   None   \n",
       "4   2 years ago  560K  59.1K  Share  More   27,155,090 plays  27.1M   \n",
       "\n",
       "                  11     12  \n",
       "0  View all comments  95.3K  \n",
       "1               None   None  \n",
       "2  View all comments  6,968  \n",
       "3               None   None  \n",
       "4  View all comments  17.3K  "
      ]
     },
     "execution_count": 170,
     "metadata": {},
     "output_type": "execute_result"
    }
   ],
   "source": [
    "btsmusicdf.head()"
   ]
  },
  {
   "cell_type": "markdown",
   "metadata": {},
   "source": [
    "#### saving the data into an excel sheet"
   ]
  },
  {
   "cell_type": "code",
   "execution_count": 171,
   "metadata": {},
   "outputs": [],
   "source": [
    "btsmusicdf.to_excel(\"bts_music.xlsx\")"
   ]
  },
  {
   "cell_type": "markdown",
   "metadata": {},
   "source": [
    "### defing the column names for the data in excel sheet"
   ]
  },
  {
   "cell_type": "code",
   "execution_count": 491,
   "metadata": {},
   "outputs": [],
   "source": [
    "names=[ 'play','playbutton','name of the band','name of the song','posted months ago','posted','likes(K)','repost(K)','share','more','plays(M)','views(M)','view comments','comments(K)']"
   ]
  },
  {
   "cell_type": "markdown",
   "metadata": {},
   "source": [
    "### loading the excel sheet and appending column names "
   ]
  },
  {
   "cell_type": "code",
   "execution_count": 492,
   "metadata": {},
   "outputs": [],
   "source": [
    "data=pd.read_excel('bts_music.xlsx' , names=names ,header = None)"
   ]
  },
  {
   "cell_type": "markdown",
   "metadata": {},
   "source": [
    "#### after loading the data the data looks like this"
   ]
  },
  {
   "cell_type": "code",
   "execution_count": 493,
   "metadata": {},
   "outputs": [
    {
     "data": {
      "text/html": [
       "<div>\n",
       "<style scoped>\n",
       "    .dataframe tbody tr th:only-of-type {\n",
       "        vertical-align: middle;\n",
       "    }\n",
       "\n",
       "    .dataframe tbody tr th {\n",
       "        vertical-align: top;\n",
       "    }\n",
       "\n",
       "    .dataframe thead th {\n",
       "        text-align: right;\n",
       "    }\n",
       "</style>\n",
       "<table border=\"1\" class=\"dataframe\">\n",
       "  <thead>\n",
       "    <tr style=\"text-align: right;\">\n",
       "      <th></th>\n",
       "      <th>play</th>\n",
       "      <th>playbutton</th>\n",
       "      <th>name of the band</th>\n",
       "      <th>name of the song</th>\n",
       "      <th>posted months ago</th>\n",
       "      <th>posted</th>\n",
       "      <th>likes(K)</th>\n",
       "      <th>repost(K)</th>\n",
       "      <th>share</th>\n",
       "      <th>more</th>\n",
       "      <th>plays(M)</th>\n",
       "      <th>views(M)</th>\n",
       "      <th>view comments</th>\n",
       "      <th>comments(K)</th>\n",
       "    </tr>\n",
       "  </thead>\n",
       "  <tbody>\n",
       "    <tr>\n",
       "      <th>0</th>\n",
       "      <td>NaN</td>\n",
       "      <td>0</td>\n",
       "      <td>1</td>\n",
       "      <td>2</td>\n",
       "      <td>3</td>\n",
       "      <td>4</td>\n",
       "      <td>5</td>\n",
       "      <td>6</td>\n",
       "      <td>7</td>\n",
       "      <td>8</td>\n",
       "      <td>9</td>\n",
       "      <td>10</td>\n",
       "      <td>11</td>\n",
       "      <td>12</td>\n",
       "    </tr>\n",
       "    <tr>\n",
       "      <th>1</th>\n",
       "      <td>0.0</td>\n",
       "      <td>Play</td>\n",
       "      <td>BTS</td>\n",
       "      <td>약속 By JIMIN Of BTS</td>\n",
       "      <td>Posted 5 months ago</td>\n",
       "      <td>5 months ago</td>\n",
       "      <td>776K</td>\n",
       "      <td>89.1K</td>\n",
       "      <td>Share</td>\n",
       "      <td>More</td>\n",
       "      <td>148,974,883 plays</td>\n",
       "      <td>148M</td>\n",
       "      <td>View all comments</td>\n",
       "      <td>95.3K</td>\n",
       "    </tr>\n",
       "    <tr>\n",
       "      <th>2</th>\n",
       "      <td>1.0</td>\n",
       "      <td>Play</td>\n",
       "      <td>BTS</td>\n",
       "      <td>약속 By JIMIN Of BTS</td>\n",
       "      <td>Posted 5 months ago</td>\n",
       "      <td>5 months ago</td>\n",
       "      <td>NaN</td>\n",
       "      <td>NaN</td>\n",
       "      <td>NaN</td>\n",
       "      <td>NaN</td>\n",
       "      <td>NaN</td>\n",
       "      <td>NaN</td>\n",
       "      <td>NaN</td>\n",
       "      <td>NaN</td>\n",
       "    </tr>\n",
       "    <tr>\n",
       "      <th>3</th>\n",
       "      <td>2.0</td>\n",
       "      <td>Play</td>\n",
       "      <td>BTS</td>\n",
       "      <td>PAPER HEARTS(cover) by JK Of BTS</td>\n",
       "      <td>Posted 3 years ago</td>\n",
       "      <td>3 years ago</td>\n",
       "      <td>366K</td>\n",
       "      <td>30.4K</td>\n",
       "      <td>Share</td>\n",
       "      <td>More</td>\n",
       "      <td>14,856,273 plays</td>\n",
       "      <td>14.8M</td>\n",
       "      <td>View all comments</td>\n",
       "      <td>6,968</td>\n",
       "    </tr>\n",
       "    <tr>\n",
       "      <th>4</th>\n",
       "      <td>3.0</td>\n",
       "      <td>Play</td>\n",
       "      <td>BTS</td>\n",
       "      <td>PAPER HEARTS(cover) by JK Of BTS</td>\n",
       "      <td>Posted 3 years ago</td>\n",
       "      <td>3 years ago</td>\n",
       "      <td>NaN</td>\n",
       "      <td>NaN</td>\n",
       "      <td>NaN</td>\n",
       "      <td>NaN</td>\n",
       "      <td>NaN</td>\n",
       "      <td>NaN</td>\n",
       "      <td>NaN</td>\n",
       "      <td>NaN</td>\n",
       "    </tr>\n",
       "  </tbody>\n",
       "</table>\n",
       "</div>"
      ],
      "text/plain": [
       "   play playbutton name of the band                  name of the song  \\\n",
       "0   NaN          0                1                                 2   \n",
       "1   0.0       Play              BTS                약속 By JIMIN Of BTS   \n",
       "2   1.0       Play              BTS                약속 By JIMIN Of BTS   \n",
       "3   2.0       Play              BTS  PAPER HEARTS(cover) by JK Of BTS   \n",
       "4   3.0       Play              BTS  PAPER HEARTS(cover) by JK Of BTS   \n",
       "\n",
       "     posted months ago        posted likes(K) repost(K)  share  more  \\\n",
       "0                    3             4        5         6      7     8   \n",
       "1  Posted 5 months ago  5 months ago     776K     89.1K  Share  More   \n",
       "2  Posted 5 months ago  5 months ago      NaN       NaN    NaN   NaN   \n",
       "3   Posted 3 years ago   3 years ago     366K     30.4K  Share  More   \n",
       "4   Posted 3 years ago   3 years ago      NaN       NaN    NaN   NaN   \n",
       "\n",
       "            plays(M) views(M)      view comments comments(K)  \n",
       "0                  9       10                 11          12  \n",
       "1  148,974,883 plays     148M  View all comments       95.3K  \n",
       "2                NaN      NaN                NaN         NaN  \n",
       "3   14,856,273 plays    14.8M  View all comments       6,968  \n",
       "4                NaN      NaN                NaN         NaN  "
      ]
     },
     "execution_count": 493,
     "metadata": {},
     "output_type": "execute_result"
    }
   ],
   "source": [
    "data.head()"
   ]
  },
  {
   "cell_type": "markdown",
   "metadata": {},
   "source": [
    "#### dropping unnecessary columns"
   ]
  },
  {
   "cell_type": "code",
   "execution_count": 494,
   "metadata": {},
   "outputs": [],
   "source": [
    "data.drop([\"play\", \"playbutton\",\"posted months ago\",\"share\",\"more\",\"view comments\"], axis = 1, inplace = True) \n",
    "  "
   ]
  },
  {
   "cell_type": "code",
   "execution_count": 495,
   "metadata": {},
   "outputs": [
    {
     "data": {
      "text/html": [
       "<div>\n",
       "<style scoped>\n",
       "    .dataframe tbody tr th:only-of-type {\n",
       "        vertical-align: middle;\n",
       "    }\n",
       "\n",
       "    .dataframe tbody tr th {\n",
       "        vertical-align: top;\n",
       "    }\n",
       "\n",
       "    .dataframe thead th {\n",
       "        text-align: right;\n",
       "    }\n",
       "</style>\n",
       "<table border=\"1\" class=\"dataframe\">\n",
       "  <thead>\n",
       "    <tr style=\"text-align: right;\">\n",
       "      <th></th>\n",
       "      <th>name of the band</th>\n",
       "      <th>name of the song</th>\n",
       "      <th>posted</th>\n",
       "      <th>likes(K)</th>\n",
       "      <th>repost(K)</th>\n",
       "      <th>plays(M)</th>\n",
       "      <th>views(M)</th>\n",
       "      <th>comments(K)</th>\n",
       "    </tr>\n",
       "  </thead>\n",
       "  <tbody>\n",
       "    <tr>\n",
       "      <th>0</th>\n",
       "      <td>1</td>\n",
       "      <td>2</td>\n",
       "      <td>4</td>\n",
       "      <td>5</td>\n",
       "      <td>6</td>\n",
       "      <td>9</td>\n",
       "      <td>10</td>\n",
       "      <td>12</td>\n",
       "    </tr>\n",
       "    <tr>\n",
       "      <th>1</th>\n",
       "      <td>BTS</td>\n",
       "      <td>약속 By JIMIN Of BTS</td>\n",
       "      <td>5 months ago</td>\n",
       "      <td>776K</td>\n",
       "      <td>89.1K</td>\n",
       "      <td>148,974,883 plays</td>\n",
       "      <td>148M</td>\n",
       "      <td>95.3K</td>\n",
       "    </tr>\n",
       "    <tr>\n",
       "      <th>2</th>\n",
       "      <td>BTS</td>\n",
       "      <td>약속 By JIMIN Of BTS</td>\n",
       "      <td>5 months ago</td>\n",
       "      <td>NaN</td>\n",
       "      <td>NaN</td>\n",
       "      <td>NaN</td>\n",
       "      <td>NaN</td>\n",
       "      <td>NaN</td>\n",
       "    </tr>\n",
       "    <tr>\n",
       "      <th>3</th>\n",
       "      <td>BTS</td>\n",
       "      <td>PAPER HEARTS(cover) by JK Of BTS</td>\n",
       "      <td>3 years ago</td>\n",
       "      <td>366K</td>\n",
       "      <td>30.4K</td>\n",
       "      <td>14,856,273 plays</td>\n",
       "      <td>14.8M</td>\n",
       "      <td>6,968</td>\n",
       "    </tr>\n",
       "    <tr>\n",
       "      <th>4</th>\n",
       "      <td>BTS</td>\n",
       "      <td>PAPER HEARTS(cover) by JK Of BTS</td>\n",
       "      <td>3 years ago</td>\n",
       "      <td>NaN</td>\n",
       "      <td>NaN</td>\n",
       "      <td>NaN</td>\n",
       "      <td>NaN</td>\n",
       "      <td>NaN</td>\n",
       "    </tr>\n",
       "  </tbody>\n",
       "</table>\n",
       "</div>"
      ],
      "text/plain": [
       "  name of the band                  name of the song        posted likes(K)  \\\n",
       "0                1                                 2             4        5   \n",
       "1              BTS                약속 By JIMIN Of BTS  5 months ago     776K   \n",
       "2              BTS                약속 By JIMIN Of BTS  5 months ago      NaN   \n",
       "3              BTS  PAPER HEARTS(cover) by JK Of BTS   3 years ago     366K   \n",
       "4              BTS  PAPER HEARTS(cover) by JK Of BTS   3 years ago      NaN   \n",
       "\n",
       "  repost(K)           plays(M) views(M) comments(K)  \n",
       "0         6                  9       10          12  \n",
       "1     89.1K  148,974,883 plays     148M       95.3K  \n",
       "2       NaN                NaN      NaN         NaN  \n",
       "3     30.4K   14,856,273 plays    14.8M       6,968  \n",
       "4       NaN                NaN      NaN         NaN  "
      ]
     },
     "execution_count": 495,
     "metadata": {},
     "output_type": "execute_result"
    }
   ],
   "source": [
    "data.head()"
   ]
  },
  {
   "cell_type": "code",
   "execution_count": 496,
   "metadata": {},
   "outputs": [],
   "source": [
    "data.drop(data.index[0], inplace=True)"
   ]
  },
  {
   "cell_type": "code",
   "execution_count": 497,
   "metadata": {},
   "outputs": [
    {
     "data": {
      "text/html": [
       "<div>\n",
       "<style scoped>\n",
       "    .dataframe tbody tr th:only-of-type {\n",
       "        vertical-align: middle;\n",
       "    }\n",
       "\n",
       "    .dataframe tbody tr th {\n",
       "        vertical-align: top;\n",
       "    }\n",
       "\n",
       "    .dataframe thead th {\n",
       "        text-align: right;\n",
       "    }\n",
       "</style>\n",
       "<table border=\"1\" class=\"dataframe\">\n",
       "  <thead>\n",
       "    <tr style=\"text-align: right;\">\n",
       "      <th></th>\n",
       "      <th>name of the band</th>\n",
       "      <th>name of the song</th>\n",
       "      <th>posted</th>\n",
       "      <th>likes(K)</th>\n",
       "      <th>repost(K)</th>\n",
       "      <th>plays(M)</th>\n",
       "      <th>views(M)</th>\n",
       "      <th>comments(K)</th>\n",
       "    </tr>\n",
       "  </thead>\n",
       "  <tbody>\n",
       "    <tr>\n",
       "      <th>1</th>\n",
       "      <td>BTS</td>\n",
       "      <td>약속 By JIMIN Of BTS</td>\n",
       "      <td>5 months ago</td>\n",
       "      <td>776K</td>\n",
       "      <td>89.1K</td>\n",
       "      <td>148,974,883 plays</td>\n",
       "      <td>148M</td>\n",
       "      <td>95.3K</td>\n",
       "    </tr>\n",
       "    <tr>\n",
       "      <th>2</th>\n",
       "      <td>BTS</td>\n",
       "      <td>약속 By JIMIN Of BTS</td>\n",
       "      <td>5 months ago</td>\n",
       "      <td>NaN</td>\n",
       "      <td>NaN</td>\n",
       "      <td>NaN</td>\n",
       "      <td>NaN</td>\n",
       "      <td>NaN</td>\n",
       "    </tr>\n",
       "    <tr>\n",
       "      <th>3</th>\n",
       "      <td>BTS</td>\n",
       "      <td>PAPER HEARTS(cover) by JK Of BTS</td>\n",
       "      <td>3 years ago</td>\n",
       "      <td>366K</td>\n",
       "      <td>30.4K</td>\n",
       "      <td>14,856,273 plays</td>\n",
       "      <td>14.8M</td>\n",
       "      <td>6,968</td>\n",
       "    </tr>\n",
       "    <tr>\n",
       "      <th>4</th>\n",
       "      <td>BTS</td>\n",
       "      <td>PAPER HEARTS(cover) by JK Of BTS</td>\n",
       "      <td>3 years ago</td>\n",
       "      <td>NaN</td>\n",
       "      <td>NaN</td>\n",
       "      <td>NaN</td>\n",
       "      <td>NaN</td>\n",
       "      <td>NaN</td>\n",
       "    </tr>\n",
       "    <tr>\n",
       "      <th>5</th>\n",
       "      <td>BTS</td>\n",
       "      <td>네시 (4 O'CLOCK) - R&amp;V</td>\n",
       "      <td>2 years ago</td>\n",
       "      <td>560K</td>\n",
       "      <td>59.1K</td>\n",
       "      <td>27,155,090 plays</td>\n",
       "      <td>27.1M</td>\n",
       "      <td>17.3K</td>\n",
       "    </tr>\n",
       "  </tbody>\n",
       "</table>\n",
       "</div>"
      ],
      "text/plain": [
       "  name of the band                  name of the song        posted likes(K)  \\\n",
       "1              BTS                약속 By JIMIN Of BTS  5 months ago     776K   \n",
       "2              BTS                약속 By JIMIN Of BTS  5 months ago      NaN   \n",
       "3              BTS  PAPER HEARTS(cover) by JK Of BTS   3 years ago     366K   \n",
       "4              BTS  PAPER HEARTS(cover) by JK Of BTS   3 years ago      NaN   \n",
       "5              BTS              네시 (4 O'CLOCK) - R&V   2 years ago     560K   \n",
       "\n",
       "  repost(K)           plays(M) views(M) comments(K)  \n",
       "1     89.1K  148,974,883 plays     148M       95.3K  \n",
       "2       NaN                NaN      NaN         NaN  \n",
       "3     30.4K   14,856,273 plays    14.8M       6,968  \n",
       "4       NaN                NaN      NaN         NaN  \n",
       "5     59.1K   27,155,090 plays    27.1M       17.3K  "
      ]
     },
     "execution_count": 497,
     "metadata": {},
     "output_type": "execute_result"
    }
   ],
   "source": [
    "data.head()"
   ]
  },
  {
   "cell_type": "code",
   "execution_count": 498,
   "metadata": {},
   "outputs": [
    {
     "name": "stdout",
     "output_type": "stream",
     "text": [
      "<class 'pandas.core.frame.DataFrame'>\n",
      "Int64Index: 18 entries, 1 to 18\n",
      "Data columns (total 8 columns):\n",
      "name of the band    18 non-null object\n",
      "name of the song    18 non-null object\n",
      "posted              18 non-null object\n",
      "likes(K)            9 non-null object\n",
      "repost(K)           9 non-null object\n",
      "plays(M)            9 non-null object\n",
      "views(M)            9 non-null object\n",
      "comments(K)         9 non-null object\n",
      "dtypes: object(8)\n",
      "memory usage: 1.3+ KB\n"
     ]
    }
   ],
   "source": [
    "data.info()"
   ]
  },
  {
   "cell_type": "code",
   "execution_count": 499,
   "metadata": {},
   "outputs": [],
   "source": [
    "##play_count=pd.DataFrame(df['plays'])\n",
    "##play_count=[i.split()[1] for i in df['plays']]"
   ]
  },
  {
   "cell_type": "markdown",
   "metadata": {},
   "source": [
    "##### checking the null values of the data"
   ]
  },
  {
   "cell_type": "code",
   "execution_count": 500,
   "metadata": {},
   "outputs": [
    {
     "data": {
      "text/plain": [
       "name of the band    0\n",
       "name of the song    0\n",
       "posted              0\n",
       "likes(K)            9\n",
       "repost(K)           9\n",
       "plays(M)            9\n",
       "views(M)            9\n",
       "comments(K)         9\n",
       "dtype: int64"
      ]
     },
     "execution_count": 500,
     "metadata": {},
     "output_type": "execute_result"
    }
   ],
   "source": [
    "data.isnull().sum()"
   ]
  },
  {
   "cell_type": "markdown",
   "metadata": {},
   "source": [
    "##### dropping the null valyes as they are duplicates"
   ]
  },
  {
   "cell_type": "code",
   "execution_count": 501,
   "metadata": {},
   "outputs": [],
   "source": [
    "data.dropna(inplace=True)"
   ]
  },
  {
   "cell_type": "markdown",
   "metadata": {},
   "source": [
    "### checking again if any null values are present"
   ]
  },
  {
   "cell_type": "code",
   "execution_count": 502,
   "metadata": {},
   "outputs": [
    {
     "data": {
      "text/plain": [
       "name of the band    0\n",
       "name of the song    0\n",
       "posted              0\n",
       "likes(K)            0\n",
       "repost(K)           0\n",
       "plays(M)            0\n",
       "views(M)            0\n",
       "comments(K)         0\n",
       "dtype: int64"
      ]
     },
     "execution_count": 502,
     "metadata": {},
     "output_type": "execute_result"
    }
   ],
   "source": [
    "data.isnull().sum()"
   ]
  },
  {
   "cell_type": "code",
   "execution_count": 503,
   "metadata": {},
   "outputs": [
    {
     "data": {
      "text/html": [
       "<div>\n",
       "<style scoped>\n",
       "    .dataframe tbody tr th:only-of-type {\n",
       "        vertical-align: middle;\n",
       "    }\n",
       "\n",
       "    .dataframe tbody tr th {\n",
       "        vertical-align: top;\n",
       "    }\n",
       "\n",
       "    .dataframe thead th {\n",
       "        text-align: right;\n",
       "    }\n",
       "</style>\n",
       "<table border=\"1\" class=\"dataframe\">\n",
       "  <thead>\n",
       "    <tr style=\"text-align: right;\">\n",
       "      <th></th>\n",
       "      <th>name of the band</th>\n",
       "      <th>name of the song</th>\n",
       "      <th>posted</th>\n",
       "      <th>likes(K)</th>\n",
       "      <th>repost(K)</th>\n",
       "      <th>plays(M)</th>\n",
       "      <th>views(M)</th>\n",
       "      <th>comments(K)</th>\n",
       "    </tr>\n",
       "  </thead>\n",
       "  <tbody>\n",
       "    <tr>\n",
       "      <th>1</th>\n",
       "      <td>BTS</td>\n",
       "      <td>약속 By JIMIN Of BTS</td>\n",
       "      <td>5 months ago</td>\n",
       "      <td>776K</td>\n",
       "      <td>89.1K</td>\n",
       "      <td>148,974,883 plays</td>\n",
       "      <td>148M</td>\n",
       "      <td>95.3K</td>\n",
       "    </tr>\n",
       "    <tr>\n",
       "      <th>3</th>\n",
       "      <td>BTS</td>\n",
       "      <td>PAPER HEARTS(cover) by JK Of BTS</td>\n",
       "      <td>3 years ago</td>\n",
       "      <td>366K</td>\n",
       "      <td>30.4K</td>\n",
       "      <td>14,856,273 plays</td>\n",
       "      <td>14.8M</td>\n",
       "      <td>6,968</td>\n",
       "    </tr>\n",
       "    <tr>\n",
       "      <th>5</th>\n",
       "      <td>BTS</td>\n",
       "      <td>네시 (4 O'CLOCK) - R&amp;V</td>\n",
       "      <td>2 years ago</td>\n",
       "      <td>560K</td>\n",
       "      <td>59.1K</td>\n",
       "      <td>27,155,090 plays</td>\n",
       "      <td>27.1M</td>\n",
       "      <td>17.3K</td>\n",
       "    </tr>\n",
       "    <tr>\n",
       "      <th>7</th>\n",
       "      <td>BTS</td>\n",
       "      <td>Fools (COVER) By 랩몬스터 &amp; 정국 of BTS</td>\n",
       "      <td>3 years ago</td>\n",
       "      <td>313K</td>\n",
       "      <td>28.2K</td>\n",
       "      <td>11,880,237 plays</td>\n",
       "      <td>11.8M</td>\n",
       "      <td>7,437</td>\n",
       "    </tr>\n",
       "    <tr>\n",
       "      <th>9</th>\n",
       "      <td>BTS</td>\n",
       "      <td>SOMEONE LIKE YOU (COVER) By V Of BTS</td>\n",
       "      <td>4 years ago</td>\n",
       "      <td>231K</td>\n",
       "      <td>15.1K</td>\n",
       "      <td>7,552,279 plays</td>\n",
       "      <td>7.55M</td>\n",
       "      <td>4,717</td>\n",
       "    </tr>\n",
       "  </tbody>\n",
       "</table>\n",
       "</div>"
      ],
      "text/plain": [
       "  name of the band                      name of the song        posted  \\\n",
       "1              BTS                    약속 By JIMIN Of BTS  5 months ago   \n",
       "3              BTS      PAPER HEARTS(cover) by JK Of BTS   3 years ago   \n",
       "5              BTS                  네시 (4 O'CLOCK) - R&V   2 years ago   \n",
       "7              BTS     Fools (COVER) By 랩몬스터 & 정국 of BTS   3 years ago   \n",
       "9              BTS  SOMEONE LIKE YOU (COVER) By V Of BTS   4 years ago   \n",
       "\n",
       "  likes(K) repost(K)           plays(M) views(M) comments(K)  \n",
       "1     776K     89.1K  148,974,883 plays     148M       95.3K  \n",
       "3     366K     30.4K   14,856,273 plays    14.8M       6,968  \n",
       "5     560K     59.1K   27,155,090 plays    27.1M       17.3K  \n",
       "7     313K     28.2K   11,880,237 plays    11.8M       7,437  \n",
       "9     231K     15.1K    7,552,279 plays    7.55M       4,717  "
      ]
     },
     "execution_count": 503,
     "metadata": {},
     "output_type": "execute_result"
    }
   ],
   "source": [
    "data.head()"
   ]
  },
  {
   "cell_type": "markdown",
   "metadata": {},
   "source": [
    "### converting posted column to datetime column"
   ]
  },
  {
   "cell_type": "code",
   "execution_count": 504,
   "metadata": {},
   "outputs": [],
   "source": [
    "import datetime\n",
    "from dateutil.relativedelta import relativedelta\n"
   ]
  },
  {
   "cell_type": "code",
   "execution_count": 505,
   "metadata": {},
   "outputs": [],
   "source": [
    "##def get_past_date(str_days_ago):\n",
    "s=[]\n",
    "for str_days_ago in data['posted']:\n",
    "    TODAY = datetime.date.today()\n",
    "    splitted = str_days_ago.split()\n",
    "    if len(splitted) == 1 and splitted[0].lower() == 'today':\n",
    "        s.append(str(TODAY.isoformat()))\n",
    "    elif len(splitted) == 1 and splitted[0].lower() == 'yesterday':\n",
    "        date = TODAY - relativedelta(days=1)\n",
    "        s.append(str(date.isoformat()))\n",
    "    elif splitted[1].lower() in ['hour', 'hours', 'hr', 'hrs', 'h']:\n",
    "        date = datetime.datetime.now() - relativedelta(hours=int(splitted[0]))\n",
    "        s.append(str(date.isoformat()))\n",
    "    elif splitted[1].lower() in ['day', 'days', 'd']:\n",
    "        date = TODAY - relativedelta(days=int(splitted[0]))\n",
    "        s.append(str(date.isoformat()))\n",
    "    elif splitted[1].lower() in ['wk', 'wks', 'week', 'weeks', 'w']:\n",
    "        date = TODAY - relativedelta(weeks=int(splitted[0]))\n",
    "        s.append(str(date.isoformat()))\n",
    "    elif splitted[1].lower() in ['mon', 'mons', 'month', 'months', 'm']:\n",
    "        date = TODAY - relativedelta(months=int(splitted[0]))\n",
    "        s.append(str(date.isoformat()))\n",
    "    elif splitted[1].lower() in ['yrs', 'yr', 'years', 'year', 'y']:\n",
    "        date = TODAY - relativedelta(years=int(splitted[0]))\n",
    "        s.append(str(date.isoformat()))\n",
    "    else:\n",
    "        s.append(\" \")\n"
   ]
  },
  {
   "cell_type": "code",
   "execution_count": 506,
   "metadata": {},
   "outputs": [],
   "source": [
    "data['posted']=s"
   ]
  },
  {
   "cell_type": "code",
   "execution_count": 507,
   "metadata": {},
   "outputs": [
    {
     "data": {
      "text/html": [
       "<div>\n",
       "<style scoped>\n",
       "    .dataframe tbody tr th:only-of-type {\n",
       "        vertical-align: middle;\n",
       "    }\n",
       "\n",
       "    .dataframe tbody tr th {\n",
       "        vertical-align: top;\n",
       "    }\n",
       "\n",
       "    .dataframe thead th {\n",
       "        text-align: right;\n",
       "    }\n",
       "</style>\n",
       "<table border=\"1\" class=\"dataframe\">\n",
       "  <thead>\n",
       "    <tr style=\"text-align: right;\">\n",
       "      <th></th>\n",
       "      <th>name of the band</th>\n",
       "      <th>name of the song</th>\n",
       "      <th>posted</th>\n",
       "      <th>likes(K)</th>\n",
       "      <th>repost(K)</th>\n",
       "      <th>plays(M)</th>\n",
       "      <th>views(M)</th>\n",
       "      <th>comments(K)</th>\n",
       "    </tr>\n",
       "  </thead>\n",
       "  <tbody>\n",
       "    <tr>\n",
       "      <th>1</th>\n",
       "      <td>BTS</td>\n",
       "      <td>약속 By JIMIN Of BTS</td>\n",
       "      <td>2019-01-16</td>\n",
       "      <td>776K</td>\n",
       "      <td>89.1K</td>\n",
       "      <td>148,974,883 plays</td>\n",
       "      <td>148M</td>\n",
       "      <td>95.3K</td>\n",
       "    </tr>\n",
       "    <tr>\n",
       "      <th>3</th>\n",
       "      <td>BTS</td>\n",
       "      <td>PAPER HEARTS(cover) by JK Of BTS</td>\n",
       "      <td>2016-06-16</td>\n",
       "      <td>366K</td>\n",
       "      <td>30.4K</td>\n",
       "      <td>14,856,273 plays</td>\n",
       "      <td>14.8M</td>\n",
       "      <td>6,968</td>\n",
       "    </tr>\n",
       "    <tr>\n",
       "      <th>5</th>\n",
       "      <td>BTS</td>\n",
       "      <td>네시 (4 O'CLOCK) - R&amp;V</td>\n",
       "      <td>2017-06-16</td>\n",
       "      <td>560K</td>\n",
       "      <td>59.1K</td>\n",
       "      <td>27,155,090 plays</td>\n",
       "      <td>27.1M</td>\n",
       "      <td>17.3K</td>\n",
       "    </tr>\n",
       "    <tr>\n",
       "      <th>7</th>\n",
       "      <td>BTS</td>\n",
       "      <td>Fools (COVER) By 랩몬스터 &amp; 정국 of BTS</td>\n",
       "      <td>2016-06-16</td>\n",
       "      <td>313K</td>\n",
       "      <td>28.2K</td>\n",
       "      <td>11,880,237 plays</td>\n",
       "      <td>11.8M</td>\n",
       "      <td>7,437</td>\n",
       "    </tr>\n",
       "    <tr>\n",
       "      <th>9</th>\n",
       "      <td>BTS</td>\n",
       "      <td>SOMEONE LIKE YOU (COVER) By V Of BTS</td>\n",
       "      <td>2015-06-16</td>\n",
       "      <td>231K</td>\n",
       "      <td>15.1K</td>\n",
       "      <td>7,552,279 plays</td>\n",
       "      <td>7.55M</td>\n",
       "      <td>4,717</td>\n",
       "    </tr>\n",
       "  </tbody>\n",
       "</table>\n",
       "</div>"
      ],
      "text/plain": [
       "  name of the band                      name of the song      posted likes(K)  \\\n",
       "1              BTS                    약속 By JIMIN Of BTS  2019-01-16     776K   \n",
       "3              BTS      PAPER HEARTS(cover) by JK Of BTS  2016-06-16     366K   \n",
       "5              BTS                  네시 (4 O'CLOCK) - R&V  2017-06-16     560K   \n",
       "7              BTS     Fools (COVER) By 랩몬스터 & 정국 of BTS  2016-06-16     313K   \n",
       "9              BTS  SOMEONE LIKE YOU (COVER) By V Of BTS  2015-06-16     231K   \n",
       "\n",
       "  repost(K)           plays(M) views(M) comments(K)  \n",
       "1     89.1K  148,974,883 plays     148M       95.3K  \n",
       "3     30.4K   14,856,273 plays    14.8M       6,968  \n",
       "5     59.1K   27,155,090 plays    27.1M       17.3K  \n",
       "7     28.2K   11,880,237 plays    11.8M       7,437  \n",
       "9     15.1K    7,552,279 plays    7.55M       4,717  "
      ]
     },
     "execution_count": 507,
     "metadata": {},
     "output_type": "execute_result"
    }
   ],
   "source": [
    "data.head()"
   ]
  },
  {
   "cell_type": "markdown",
   "metadata": {},
   "source": [
    "### converting all the columns properly by removing the extrawords in columns"
   ]
  },
  {
   "cell_type": "code",
   "execution_count": 509,
   "metadata": {},
   "outputs": [
    {
     "name": "stdout",
     "output_type": "stream",
     "text": [
      "776\n",
      "366\n",
      "560\n",
      "313\n",
      "231\n",
      "341\n",
      "264\n",
      "274\n",
      "409\n"
     ]
    }
   ],
   "source": [
    "k=[]\n",
    "for i in data['likes(K)']:\n",
    "    splitted = i.split('K')\n",
    "    print(splitted[0])\n",
    "    k.append(splitted[0])\n",
    "data['likes(K)']=k"
   ]
  },
  {
   "cell_type": "code",
   "execution_count": 510,
   "metadata": {},
   "outputs": [
    {
     "name": "stdout",
     "output_type": "stream",
     "text": [
      "89.1\n",
      "30.4\n",
      "59.1\n",
      "28.2\n",
      "15.1\n",
      "14.6\n",
      "27.4\n",
      "17.3\n",
      "41.3\n"
     ]
    }
   ],
   "source": [
    "rep=[]\n",
    "for i in data['repost(K)']:\n",
    "    splitted = i.split('K')\n",
    "    print(splitted[0])\n",
    "    rep.append(splitted[0])\n",
    "data['repost(K)']=rep"
   ]
  },
  {
   "cell_type": "code",
   "execution_count": 511,
   "metadata": {},
   "outputs": [
    {
     "name": "stdout",
     "output_type": "stream",
     "text": [
      "148,974,883 \n",
      "14,856,273 \n",
      "27,155,090 \n",
      "11,880,237 \n",
      "7,552,279 \n",
      "13,899,294 \n",
      "8,111,959 \n",
      "9,682,573 \n",
      "14,088,668 \n"
     ]
    }
   ],
   "source": [
    "play=[]\n",
    "for i in data['plays(M)']:\n",
    "    splitted = i.split('plays')\n",
    "    print(splitted[0])\n",
    "    play.append(splitted[0])\n",
    "data['plays(M)']=play"
   ]
  },
  {
   "cell_type": "code",
   "execution_count": 512,
   "metadata": {},
   "outputs": [
    {
     "name": "stdout",
     "output_type": "stream",
     "text": [
      "148\n",
      "14.8\n",
      "27.1\n",
      "11.8\n",
      "7.55\n",
      "13.8\n",
      "8.11\n",
      "9.68\n",
      "14\n"
     ]
    }
   ],
   "source": [
    "view=[]\n",
    "for i in data['views(M)']:\n",
    "    splitted = i.split('M')\n",
    "    print(splitted[0])\n",
    "    view.append(splitted[0])\n",
    "data['views(M)']=view"
   ]
  },
  {
   "cell_type": "code",
   "execution_count": 513,
   "metadata": {},
   "outputs": [
    {
     "name": "stdout",
     "output_type": "stream",
     "text": [
      "95.3\n",
      "6,968\n",
      "17.3\n",
      "7,437\n",
      "4,717\n",
      "5,924\n",
      "5,950\n",
      "2,907\n",
      "11.8\n"
     ]
    }
   ],
   "source": [
    "comment=[]\n",
    "for i in data['comments(K)']:\n",
    "    splitted = i.split('K')\n",
    "    print(splitted[0])\n",
    "    comment.append(splitted[0])\n",
    "data['comments(K)']=comment"
   ]
  },
  {
   "cell_type": "code",
   "execution_count": 514,
   "metadata": {},
   "outputs": [],
   "source": [
    "d=[]\n",
    "for i in data['comments(K)']:\n",
    "    k=i.replace(',','.')\n",
    "    d.append(k)\n",
    "data['comments(K)']=d    \n",
    "    "
   ]
  },
  {
   "cell_type": "code",
   "execution_count": 515,
   "metadata": {},
   "outputs": [
    {
     "data": {
      "text/html": [
       "<div>\n",
       "<style scoped>\n",
       "    .dataframe tbody tr th:only-of-type {\n",
       "        vertical-align: middle;\n",
       "    }\n",
       "\n",
       "    .dataframe tbody tr th {\n",
       "        vertical-align: top;\n",
       "    }\n",
       "\n",
       "    .dataframe thead th {\n",
       "        text-align: right;\n",
       "    }\n",
       "</style>\n",
       "<table border=\"1\" class=\"dataframe\">\n",
       "  <thead>\n",
       "    <tr style=\"text-align: right;\">\n",
       "      <th></th>\n",
       "      <th>name of the band</th>\n",
       "      <th>name of the song</th>\n",
       "      <th>posted</th>\n",
       "      <th>likes(K)</th>\n",
       "      <th>repost(K)</th>\n",
       "      <th>plays(M)</th>\n",
       "      <th>views(M)</th>\n",
       "      <th>comments(K)</th>\n",
       "    </tr>\n",
       "  </thead>\n",
       "  <tbody>\n",
       "    <tr>\n",
       "      <th>1</th>\n",
       "      <td>BTS</td>\n",
       "      <td>약속 By JIMIN Of BTS</td>\n",
       "      <td>2019-01-16</td>\n",
       "      <td>776</td>\n",
       "      <td>89.1</td>\n",
       "      <td>148,974,883</td>\n",
       "      <td>148</td>\n",
       "      <td>95.3</td>\n",
       "    </tr>\n",
       "    <tr>\n",
       "      <th>3</th>\n",
       "      <td>BTS</td>\n",
       "      <td>PAPER HEARTS(cover) by JK Of BTS</td>\n",
       "      <td>2016-06-16</td>\n",
       "      <td>366</td>\n",
       "      <td>30.4</td>\n",
       "      <td>14,856,273</td>\n",
       "      <td>14.8</td>\n",
       "      <td>6.968</td>\n",
       "    </tr>\n",
       "    <tr>\n",
       "      <th>5</th>\n",
       "      <td>BTS</td>\n",
       "      <td>네시 (4 O'CLOCK) - R&amp;V</td>\n",
       "      <td>2017-06-16</td>\n",
       "      <td>560</td>\n",
       "      <td>59.1</td>\n",
       "      <td>27,155,090</td>\n",
       "      <td>27.1</td>\n",
       "      <td>17.3</td>\n",
       "    </tr>\n",
       "    <tr>\n",
       "      <th>7</th>\n",
       "      <td>BTS</td>\n",
       "      <td>Fools (COVER) By 랩몬스터 &amp; 정국 of BTS</td>\n",
       "      <td>2016-06-16</td>\n",
       "      <td>313</td>\n",
       "      <td>28.2</td>\n",
       "      <td>11,880,237</td>\n",
       "      <td>11.8</td>\n",
       "      <td>7.437</td>\n",
       "    </tr>\n",
       "    <tr>\n",
       "      <th>9</th>\n",
       "      <td>BTS</td>\n",
       "      <td>SOMEONE LIKE YOU (COVER) By V Of BTS</td>\n",
       "      <td>2015-06-16</td>\n",
       "      <td>231</td>\n",
       "      <td>15.1</td>\n",
       "      <td>7,552,279</td>\n",
       "      <td>7.55</td>\n",
       "      <td>4.717</td>\n",
       "    </tr>\n",
       "  </tbody>\n",
       "</table>\n",
       "</div>"
      ],
      "text/plain": [
       "  name of the band                      name of the song      posted likes(K)  \\\n",
       "1              BTS                    약속 By JIMIN Of BTS  2019-01-16      776   \n",
       "3              BTS      PAPER HEARTS(cover) by JK Of BTS  2016-06-16      366   \n",
       "5              BTS                  네시 (4 O'CLOCK) - R&V  2017-06-16      560   \n",
       "7              BTS     Fools (COVER) By 랩몬스터 & 정국 of BTS  2016-06-16      313   \n",
       "9              BTS  SOMEONE LIKE YOU (COVER) By V Of BTS  2015-06-16      231   \n",
       "\n",
       "  repost(K)      plays(M) views(M) comments(K)  \n",
       "1      89.1  148,974,883       148        95.3  \n",
       "3      30.4   14,856,273      14.8       6.968  \n",
       "5      59.1   27,155,090      27.1        17.3  \n",
       "7      28.2   11,880,237      11.8       7.437  \n",
       "9      15.1    7,552,279      7.55       4.717  "
      ]
     },
     "execution_count": 515,
     "metadata": {},
     "output_type": "execute_result"
    }
   ],
   "source": [
    "data.head()"
   ]
  },
  {
   "cell_type": "markdown",
   "metadata": {},
   "source": [
    "### converting numeric columns to numeric"
   ]
  },
  {
   "cell_type": "code",
   "execution_count": 518,
   "metadata": {},
   "outputs": [
    {
     "data": {
      "text/plain": [
       "pandas.core.series.Series"
      ]
     },
     "execution_count": 518,
     "metadata": {},
     "output_type": "execute_result"
    }
   ],
   "source": [
    "type(data['views(M)'])"
   ]
  },
  {
   "cell_type": "code",
   "execution_count": 519,
   "metadata": {},
   "outputs": [],
   "source": [
    "x=pd.to_numeric(data['likes(K)'])\n",
    "data['likes(K)']=x\n",
    "x1=pd.to_numeric(data['repost(K)'])\n",
    "data['repost(K)']=x1\n",
    "x3=pd.to_numeric(data['views(M)'])\n",
    "data['views(M)']=x3\n",
    "x4=pd.to_numeric(data['likes(K)'])\n",
    "data['likes(K)']=x4\n",
    "x5=pd.to_numeric(data['comments(K)'])\n",
    "data['comments(K)']=x5\n"
   ]
  },
  {
   "cell_type": "code",
   "execution_count": 520,
   "metadata": {},
   "outputs": [],
   "source": [
    "#x2=pd.to_numeric(data['plays(M)'],errors='coerce')"
   ]
  },
  {
   "cell_type": "code",
   "execution_count": 521,
   "metadata": {},
   "outputs": [],
   "source": [
    "##data['plays(M)']=x2"
   ]
  },
  {
   "cell_type": "code",
   "execution_count": 522,
   "metadata": {},
   "outputs": [
    {
     "data": {
      "text/html": [
       "<div>\n",
       "<style scoped>\n",
       "    .dataframe tbody tr th:only-of-type {\n",
       "        vertical-align: middle;\n",
       "    }\n",
       "\n",
       "    .dataframe tbody tr th {\n",
       "        vertical-align: top;\n",
       "    }\n",
       "\n",
       "    .dataframe thead th {\n",
       "        text-align: right;\n",
       "    }\n",
       "</style>\n",
       "<table border=\"1\" class=\"dataframe\">\n",
       "  <thead>\n",
       "    <tr style=\"text-align: right;\">\n",
       "      <th></th>\n",
       "      <th>name of the band</th>\n",
       "      <th>name of the song</th>\n",
       "      <th>posted</th>\n",
       "      <th>likes(K)</th>\n",
       "      <th>repost(K)</th>\n",
       "      <th>plays(M)</th>\n",
       "      <th>views(M)</th>\n",
       "      <th>comments(K)</th>\n",
       "    </tr>\n",
       "  </thead>\n",
       "  <tbody>\n",
       "    <tr>\n",
       "      <th>1</th>\n",
       "      <td>BTS</td>\n",
       "      <td>약속 By JIMIN Of BTS</td>\n",
       "      <td>2019-01-16</td>\n",
       "      <td>776</td>\n",
       "      <td>89.1</td>\n",
       "      <td>148,974,883</td>\n",
       "      <td>148.00</td>\n",
       "      <td>95.300</td>\n",
       "    </tr>\n",
       "    <tr>\n",
       "      <th>3</th>\n",
       "      <td>BTS</td>\n",
       "      <td>PAPER HEARTS(cover) by JK Of BTS</td>\n",
       "      <td>2016-06-16</td>\n",
       "      <td>366</td>\n",
       "      <td>30.4</td>\n",
       "      <td>14,856,273</td>\n",
       "      <td>14.80</td>\n",
       "      <td>6.968</td>\n",
       "    </tr>\n",
       "    <tr>\n",
       "      <th>5</th>\n",
       "      <td>BTS</td>\n",
       "      <td>네시 (4 O'CLOCK) - R&amp;V</td>\n",
       "      <td>2017-06-16</td>\n",
       "      <td>560</td>\n",
       "      <td>59.1</td>\n",
       "      <td>27,155,090</td>\n",
       "      <td>27.10</td>\n",
       "      <td>17.300</td>\n",
       "    </tr>\n",
       "    <tr>\n",
       "      <th>7</th>\n",
       "      <td>BTS</td>\n",
       "      <td>Fools (COVER) By 랩몬스터 &amp; 정국 of BTS</td>\n",
       "      <td>2016-06-16</td>\n",
       "      <td>313</td>\n",
       "      <td>28.2</td>\n",
       "      <td>11,880,237</td>\n",
       "      <td>11.80</td>\n",
       "      <td>7.437</td>\n",
       "    </tr>\n",
       "    <tr>\n",
       "      <th>9</th>\n",
       "      <td>BTS</td>\n",
       "      <td>SOMEONE LIKE YOU (COVER) By V Of BTS</td>\n",
       "      <td>2015-06-16</td>\n",
       "      <td>231</td>\n",
       "      <td>15.1</td>\n",
       "      <td>7,552,279</td>\n",
       "      <td>7.55</td>\n",
       "      <td>4.717</td>\n",
       "    </tr>\n",
       "  </tbody>\n",
       "</table>\n",
       "</div>"
      ],
      "text/plain": [
       "  name of the band                      name of the song      posted  \\\n",
       "1              BTS                    약속 By JIMIN Of BTS  2019-01-16   \n",
       "3              BTS      PAPER HEARTS(cover) by JK Of BTS  2016-06-16   \n",
       "5              BTS                  네시 (4 O'CLOCK) - R&V  2017-06-16   \n",
       "7              BTS     Fools (COVER) By 랩몬스터 & 정국 of BTS  2016-06-16   \n",
       "9              BTS  SOMEONE LIKE YOU (COVER) By V Of BTS  2015-06-16   \n",
       "\n",
       "   likes(K)  repost(K)      plays(M)  views(M)  comments(K)  \n",
       "1       776       89.1  148,974,883     148.00       95.300  \n",
       "3       366       30.4   14,856,273      14.80        6.968  \n",
       "5       560       59.1   27,155,090      27.10       17.300  \n",
       "7       313       28.2   11,880,237      11.80        7.437  \n",
       "9       231       15.1    7,552,279       7.55        4.717  "
      ]
     },
     "execution_count": 522,
     "metadata": {},
     "output_type": "execute_result"
    }
   ],
   "source": [
    "data.head()"
   ]
  },
  {
   "cell_type": "code",
   "execution_count": 523,
   "metadata": {},
   "outputs": [
    {
     "name": "stdout",
     "output_type": "stream",
     "text": [
      "<class 'pandas.core.frame.DataFrame'>\n",
      "Int64Index: 9 entries, 1 to 17\n",
      "Data columns (total 8 columns):\n",
      "name of the band    9 non-null object\n",
      "name of the song    9 non-null object\n",
      "posted              9 non-null object\n",
      "likes(K)            9 non-null int64\n",
      "repost(K)           9 non-null float64\n",
      "plays(M)            9 non-null object\n",
      "views(M)            9 non-null float64\n",
      "comments(K)         9 non-null float64\n",
      "dtypes: float64(3), int64(1), object(4)\n",
      "memory usage: 648.0+ bytes\n"
     ]
    }
   ],
   "source": [
    "data.info()"
   ]
  },
  {
   "cell_type": "markdown",
   "metadata": {},
   "source": [
    "#### summary of the data excluding the nonnumeric values"
   ]
  },
  {
   "cell_type": "code",
   "execution_count": 524,
   "metadata": {},
   "outputs": [
    {
     "data": {
      "text/html": [
       "<div>\n",
       "<style scoped>\n",
       "    .dataframe tbody tr th:only-of-type {\n",
       "        vertical-align: middle;\n",
       "    }\n",
       "\n",
       "    .dataframe tbody tr th {\n",
       "        vertical-align: top;\n",
       "    }\n",
       "\n",
       "    .dataframe thead th {\n",
       "        text-align: right;\n",
       "    }\n",
       "</style>\n",
       "<table border=\"1\" class=\"dataframe\">\n",
       "  <thead>\n",
       "    <tr style=\"text-align: right;\">\n",
       "      <th></th>\n",
       "      <th>count</th>\n",
       "      <th>mean</th>\n",
       "      <th>std</th>\n",
       "      <th>min</th>\n",
       "      <th>25%</th>\n",
       "      <th>50%</th>\n",
       "      <th>75%</th>\n",
       "      <th>max</th>\n",
       "    </tr>\n",
       "  </thead>\n",
       "  <tbody>\n",
       "    <tr>\n",
       "      <th>likes(K)</th>\n",
       "      <td>9.0</td>\n",
       "      <td>392.666667</td>\n",
       "      <td>173.821748</td>\n",
       "      <td>231.000</td>\n",
       "      <td>274.000</td>\n",
       "      <td>341.000</td>\n",
       "      <td>409.0</td>\n",
       "      <td>776.0</td>\n",
       "    </tr>\n",
       "    <tr>\n",
       "      <th>repost(K)</th>\n",
       "      <td>9.0</td>\n",
       "      <td>35.833333</td>\n",
       "      <td>24.473659</td>\n",
       "      <td>14.600</td>\n",
       "      <td>17.300</td>\n",
       "      <td>28.200</td>\n",
       "      <td>41.3</td>\n",
       "      <td>89.1</td>\n",
       "    </tr>\n",
       "    <tr>\n",
       "      <th>views(M)</th>\n",
       "      <td>9.0</td>\n",
       "      <td>28.315556</td>\n",
       "      <td>45.254379</td>\n",
       "      <td>7.550</td>\n",
       "      <td>9.680</td>\n",
       "      <td>13.800</td>\n",
       "      <td>14.8</td>\n",
       "      <td>148.0</td>\n",
       "    </tr>\n",
       "    <tr>\n",
       "      <th>comments(K)</th>\n",
       "      <td>9.0</td>\n",
       "      <td>17.589222</td>\n",
       "      <td>29.456010</td>\n",
       "      <td>2.907</td>\n",
       "      <td>5.924</td>\n",
       "      <td>6.968</td>\n",
       "      <td>11.8</td>\n",
       "      <td>95.3</td>\n",
       "    </tr>\n",
       "  </tbody>\n",
       "</table>\n",
       "</div>"
      ],
      "text/plain": [
       "             count        mean         std      min      25%      50%    75%  \\\n",
       "likes(K)       9.0  392.666667  173.821748  231.000  274.000  341.000  409.0   \n",
       "repost(K)      9.0   35.833333   24.473659   14.600   17.300   28.200   41.3   \n",
       "views(M)       9.0   28.315556   45.254379    7.550    9.680   13.800   14.8   \n",
       "comments(K)    9.0   17.589222   29.456010    2.907    5.924    6.968   11.8   \n",
       "\n",
       "               max  \n",
       "likes(K)     776.0  \n",
       "repost(K)     89.1  \n",
       "views(M)     148.0  \n",
       "comments(K)   95.3  "
      ]
     },
     "execution_count": 524,
     "metadata": {},
     "output_type": "execute_result"
    }
   ],
   "source": [
    "data.describe().T"
   ]
  },
  {
   "cell_type": "markdown",
   "metadata": {},
   "source": [
    "### Data Visulaization"
   ]
  },
  {
   "cell_type": "code",
   "execution_count": 525,
   "metadata": {},
   "outputs": [],
   "source": [
    "import seaborn as sns\n",
    "import matplotlib.pyplot as plt"
   ]
  },
  {
   "cell_type": "code",
   "execution_count": 528,
   "metadata": {},
   "outputs": [
    {
     "data": {
      "text/plain": [
       "<matplotlib.axes._subplots.AxesSubplot at 0x2935be1edd8>"
      ]
     },
     "execution_count": 528,
     "metadata": {},
     "output_type": "execute_result"
    },
    {
     "data": {
      "image/png": "[encoded data removed]",
      "text/plain": [
       "<Figure size 432x288 with 1 Axes>"
      ]
     },
     "metadata": {},
     "output_type": "display_data"
    }
   ],
   "source": [
    "sns.barplot(y=data['views(M)'],x=data['likes(K)'])"
   ]
  },
  {
   "cell_type": "markdown",
   "metadata": {},
   "source": [
    "##### the graph above shows the highest viewed(140 million views) album has more comments but when it comes to second highest \n",
    "##### it was viwed by only 30 million "
   ]
  },
  {
   "cell_type": "code",
   "execution_count": 529,
   "metadata": {},
   "outputs": [
    {
     "data": {
      "text/plain": [
       "<matplotlib.axes._subplots.AxesSubplot at 0x2935c0395f8>"
      ]
     },
     "execution_count": 529,
     "metadata": {},
     "output_type": "execute_result"
    },
    {
     "data": {
      "image/png": "[encoded data removed]",
      "text/plain": [
       "<Figure size 432x288 with 1 Axes>"
      ]
     },
     "metadata": {},
     "output_type": "display_data"
    }
   ],
   "source": [
    "sns.swarmplot(y=data['name of the song'],x=data['likes(K)'])"
   ]
  },
  {
   "cell_type": "markdown",
   "metadata": {},
   "source": [
    "##### in the above and below graph the most liked and more commented song was- by jimin of bts"
   ]
  },
  {
   "cell_type": "code",
   "execution_count": 535,
   "metadata": {},
   "outputs": [
    {
     "data": {
      "text/plain": [
       "<matplotlib.axes._subplots.AxesSubplot at 0x2935c37d400>"
      ]
     },
     "execution_count": 535,
     "metadata": {},
     "output_type": "execute_result"
    },
    {
     "data": {
      "image/png": "[encoded data removed]",
      "text/plain": [
       "<Figure size 432x288 with 1 Axes>"
      ]
     },
     "metadata": {},
     "output_type": "display_data"
    }
   ],
   "source": [
    "sns.barplot(y=data['name of the song'],x=data['comments(K)'])"
   ]
  },
  {
   "cell_type": "code",
   "execution_count": 543,
   "metadata": {},
   "outputs": [
    {
     "data": {
      "text/plain": [
       "<matplotlib.axes._subplots.AxesSubplot at 0x2935c49d588>"
      ]
     },
     "execution_count": 543,
     "metadata": {},
     "output_type": "execute_result"
    },
    {
     "data": {
      "image/png": "[encoded data removed]",
      "text/plain": [
       "<Figure size 432x288 with 1 Axes>"
      ]
     },
     "metadata": {},
     "output_type": "display_data"
    }
   ],
   "source": [
    "sns.pointplot(x=data['posted'],y=data['repost(K)'])"
   ]
  },
  {
   "cell_type": "code",
   "execution_count": 545,
   "metadata": {},
   "outputs": [
    {
     "data": {
      "text/plain": [
       "<matplotlib.axes._subplots.AxesSubplot at 0x2935d4cc748>"
      ]
     },
     "execution_count": 545,
     "metadata": {},
     "output_type": "execute_result"
    },
    {
     "data": {
      "image/png": "[encoded data removed]",
      "text/plain": [
       "<Figure size 432x288 with 1 Axes>"
      ]
     },
     "metadata": {},
     "output_type": "display_data"
    }
   ],
   "source": [
    "sns.pointplot(y=data['name of the song'],x=data['repost(K)'])"
   ]
  },
  {
   "cell_type": "code",
   "execution_count": 546,
   "metadata": {},
   "outputs": [
    {
     "data": {
      "text/plain": [
       "<matplotlib.axes._subplots.AxesSubplot at 0x2935d5cc8d0>"
      ]
     },
     "execution_count": 546,
     "metadata": {},
     "output_type": "execute_result"
    },
    {
     "data": {
      "image/png": "[encoded data removed]",
      "text/plain": [
       "<Figure size 432x288 with 1 Axes>"
      ]
     },
     "metadata": {},
     "output_type": "display_data"
    }
   ],
   "source": [
    "sns.pointplot(y=data['likes(K)'],x=data['repost(K)'])"
   ]
  },
  {
   "cell_type": "markdown",
   "metadata": {},
   "source": [
    "###### The song which got reposted(LOWEST) only 12000 times is agust D "
   ]
  },
  {
   "cell_type": "code",
   "execution_count": 547,
   "metadata": {},
   "outputs": [
    {
     "data": {
      "text/plain": [
       "<matplotlib.axes._subplots.AxesSubplot at 0x2935d5aef28>"
      ]
     },
     "execution_count": 547,
     "metadata": {},
     "output_type": "execute_result"
    },
    {
     "data": {
      "image/png": "[encoded data removed]",
      "text/plain": [
       "<Figure size 432x288 with 1 Axes>"
      ]
     },
     "metadata": {},
     "output_type": "display_data"
    }
   ],
   "source": [
    "sns.barplot(y=data['name of the song'],x=data['likes(K)'])"
   ]
  },
  {
   "cell_type": "markdown",
   "metadata": {},
   "source": [
    "##### the song which was less liked in BTS is SOMEONELIKEYOU\n",
    "##### the song which got very less comments is Daydream"
   ]
  }
 ],
 "metadata": {
  "kernelspec": {
   "display_name": "Python 3",
   "language": "python",
   "name": "python3"
  },
  "language_info": {
   "codemirror_mode": {
    "name": "ipython",
    "version": 3
   },
   "file_extension": ".py",
   "mimetype": "text/x-python",
   "name": "python",
   "nbconvert_exporter": "python",
   "pygments_lexer": "ipython3",
   "version": "3.6.5"
  }
 },
 "nbformat": 4,
 "nbformat_minor": 2
}
